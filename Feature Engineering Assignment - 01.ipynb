{
 "cells": [
  {
   "cell_type": "markdown",
   "id": "99890d42-7cbf-4e74-a3bc-f8a3e138e1c5",
   "metadata": {},
   "source": [
    "Q1. What are missing values in a dataset? Why is it essential to handle missing values? Name some algorithms that are not affected by missing values."
   ]
  },
  {
   "cell_type": "markdown",
   "id": "1948cf32-ce0e-4eea-98be-0ded95f5c90e",
   "metadata": {},
   "source": [
    "ANS : Missing values can occur for various reasons, such as data entry errors, system malfunctions, or non-response by participants.\n",
    "\n",
    "It is essential to handle missing values because they can lead to biased estimates, reduce the representativeness of the sample, and affect the accuracy of the analysis.\n",
    "\n",
    "Some algorithms that are not affected by missing values include:Decision trees, Random forests, Support vector machines, K-nearest neighbors, Naive Bayes."
   ]
  },
  {
   "cell_type": "markdown",
   "id": "74ac85b4-412e-4643-889b-b809be110d22",
   "metadata": {},
   "source": [
    "Q2. List down techniques used to handle missing data. Give an example of each with python code."
   ]
  },
  {
   "cell_type": "code",
   "execution_count": 1,
   "id": "9831554a-f3ac-4780-a5ea-8699494d4d6a",
   "metadata": {},
   "outputs": [
    {
     "name": "stdout",
     "output_type": "stream",
     "text": [
      "Number of observations before pairwise deletion: 23\n",
      "Number of observations after pairwise deletion: 0\n",
      "Number of missing values before mean imputation: 221\n",
      "Number of missing values after mean imputation: 221\n"
     ]
    },
    {
     "name": "stderr",
     "output_type": "stream",
     "text": [
      "/tmp/ipykernel_180/3962402730.py:18: FutureWarning: The default value of numeric_only in DataFrame.mean is deprecated. In a future version, it will default to False. In addition, specifying 'numeric_only=None' is deprecated. Select only valid columns or specify the value of numeric_only to silence this warning.\n",
      "  df_mean = df.fillna(df.mean())\n"
     ]
    }
   ],
   "source": [
    "#Deletion methods: Deletion methods involve removing observations or variables with missing values. \n",
    "#There are two types of deletion methods: Listwise deletion, Pairwise deletion\n",
    "import pandas as pd\n",
    "# load dataset with missing values\n",
    "df = pd.read_csv('services.csv')\n",
    "# use pairwise deletion\n",
    "df_pairwise = df.dropna()\n",
    "# print the number of observations before and after pairwise deletion\n",
    "print(\"Number of observations before pairwise deletion:\", len(df))\n",
    "print(\"Number of observations after pairwise deletion:\", len(df_pairwise))\n",
    "\n",
    "#Imputation methods: Imputation methods involve filling in the missing values with plausible values. \n",
    "#There are several types of imputation methods: Mean imputation, Regression imputation, Multiple imputation\n",
    "import pandas as pd\n",
    "# load dataset with missing values\n",
    "df = pd.read_csv('services.csv')\n",
    "# use mean imputation\n",
    "df_mean = df.fillna(df.mean())\n",
    "# print the number of missing values before and after mean imputation\n",
    "print(\"Number of missing values before mean imputation:\", df.isna().sum().sum())\n",
    "print(\"Number of missing values after mean imputation:\", df_mean.isna().sum().sum())"
   ]
  },
  {
   "cell_type": "markdown",
   "id": "5e102812-40ff-47a2-ad75-22a74c068e48",
   "metadata": {},
   "source": [
    "Q3. Explain the imbalanced data. What will happen if imbalanced data is not handled?"
   ]
  },
  {
   "cell_type": "markdown",
   "id": "55a9f795-733d-4229-af12-68683744465d",
   "metadata": {},
   "source": [
    "ANS :\n",
    "Imbalanced data refers to a dataset where the classes or categories are not represented equally. For example, a dataset might have 90% of the observations in one class and only 10% in another. \n",
    "Imbalanced data can be a problem because many machine learning algorithms are designed to assume that the classes are balanced. \n",
    "This can lead to biased models that perform poorly on the minority class.\n",
    "\n",
    "If imbalanced data is not handled, the resulting models may have poor predictive performance on the minority class, which is often the class of interest. \n",
    "This can result in missed opportunities for identifying important patterns or anomalies in the data."
   ]
  },
  {
   "cell_type": "markdown",
   "id": "a0637b2b-5e92-4bdb-86fb-04abc361e7a7",
   "metadata": {},
   "source": [
    "Q4. What are Up-sampling and Down-sampling? Explain with an example when up-sampling and down- sampling are required."
   ]
  },
  {
   "cell_type": "markdown",
   "id": "97c94675-3ea5-46d5-88c2-afee498675b9",
   "metadata": {},
   "source": [
    "ANS : Up-sampling and down-sampling are techniques used to handle imbalanced data in a dataset.\n",
    "Down-sampling involves reducing the number of observations in the majority class to balance it with the minority class. \n",
    "For example, if we have a dataset with 1000 observations and 900 of them belong to class A and 100 belong to class B, we can down-sample class A to 100 observations by randomly selecting 100 observations from class A.\n",
    "\n",
    "Up-sampling involves increasing the number of observations in the minority class to balance it with the majority class.\n",
    "For example, if we have a dataset with 1000 observations and 100 of them belong to class A and 900 belong to class B, we can up-sample class A to 900 observations by replicating each observation in class A nine times.\n",
    "\n",
    "When to use up-sampling or down-sampling depends on the nature of the dataset and the goals of the analysis. \n",
    "If the minority class is important and we want to ensure that the model performs well on it, we might up-sample it. On the other hand, if the majority class is too large and it might overwhelm the model, we might down-sample it."
   ]
  },
  {
   "cell_type": "markdown",
   "id": "f6236258-c583-4402-8c6b-e1531cc57300",
   "metadata": {},
   "source": [
    "Q5. What is data Augmentation? Explain SMOTE."
   ]
  },
  {
   "cell_type": "markdown",
   "id": "fe610cd4-7504-474f-b5e4-4e22ed3c79b7",
   "metadata": {},
   "source": [
    "ANS : \n",
    "Data augmentation is a technique used to increase the amount of training data by generating new examples from the existing data. \n",
    "This technique can be useful in scenarios where the available data is limited or imbalanced.\n",
    "\n",
    "SMOTE (Synthetic Minority Over-sampling Technique) is a popular data augmentation technique used to address class imbalance by generating synthetic examples of the minority class. \n",
    "For example, suppose we have a dataset with 1000 observations and only 100 of them belong to the minority class. \n",
    "We can use SMOTE to generate new synthetic examples for the minority class by selecting one of the minority class observations and finding its k-nearest neighbors."
   ]
  },
  {
   "cell_type": "markdown",
   "id": "1f7079f5-9868-4490-8264-00c74fb88fb7",
   "metadata": {},
   "source": [
    "Q6. What are outliers in a dataset? Why is it essential to handle outliers?"
   ]
  },
  {
   "cell_type": "markdown",
   "id": "0fa288b9-0e1e-4609-b56b-db451911e5bc",
   "metadata": {},
   "source": [
    "ANS : Outliers are data points in a dataset that are significantly different from the other observations. \n",
    "These data points can occur due to measurement errors, data entry errors, or genuine anomalies in the data.\n",
    "\n",
    "It is essential to handle outliers in a dataset because they can have a significant impact on the analysis and the resulting model. \n",
    "Outliers can skew the distribution of the data and affect the estimates of statistical measures such as mean and variance."
   ]
  },
  {
   "cell_type": "markdown",
   "id": "443ca08b-8559-45b2-805e-d712ea8231de",
   "metadata": {},
   "source": [
    "Q7. You are working on a project that requires analyzing customer data. However, you notice that some of the data is missing. What are some techniques you can use to handle the missing data in your analysis?"
   ]
  },
  {
   "cell_type": "markdown",
   "id": "7d0deff1-a655-4fa2-8d31-338519183c61",
   "metadata": {},
   "source": [
    "ANS : There are several techniques that can be used to handle missing data in an analysis. Some of them are:\n",
    "\n",
    "1. Deletion: One technique is to delete the missing data.\n",
    "2. Mean/Mode/Median Imputation: Another technique is to replace the missing data with the mean, mode, or median of the available data.\n",
    "3. Regression Imputation: Regression imputation is a technique that involves using regression models to predict the missing data based on the available data.\n",
    "4. Multiple Imputation: Multiple imputation is a technique that involves creating multiple imputed datasets and combining the results to obtain more accurate estimates. "
   ]
  },
  {
   "cell_type": "markdown",
   "id": "4bfd4c62-44a1-482e-82e7-f6f33cbb16d5",
   "metadata": {},
   "source": [
    "Q8. You are working with a large dataset and find that a small percentage of the data is missing. What aresome strategies you can use to determine if the missing data is missing at random or if there is a pattern to the missing data? "
   ]
  },
  {
   "cell_type": "markdown",
   "id": "4b89e95f-b8a9-4634-84a9-90371e415811",
   "metadata": {},
   "source": [
    "ANS : Here are several strategies that can be used to determine if the missing data is missing at random or if there is a pattern to the missing data. Some of them are:\n",
    "\n",
    "1. Visual inspection: One approach is to plot the data and look for patterns.\n",
    "2. Correlation analysis: Another approach is to calculate the correlation between the variables and check if there is a relationship between the missing data and the other variables.\n",
    "3. Missing data tests: There are several statistical tests that can be used to check if the missing data is missing at random or not. \n",
    "4. Imputation: Another strategy is to use imputation techniques to fill in the missing data and check if the imputed data matches the patterns of the available data. "
   ]
  },
  {
   "cell_type": "markdown",
   "id": "0c11f409-40b9-4565-9f33-5c5083e6a47f",
   "metadata": {},
   "source": [
    "Q9. Suppose you are working on a medical diagnosis project and find that the majority of patients in the dataset do not have the condition of interest, while a small percentage do. What are some strategies youcan use to evaluate the performance of your machine learning model on this imbalanced dataset? "
   ]
  },
  {
   "cell_type": "markdown",
   "id": "8ed54a8d-6326-4389-84cb-ef80bbd6de35",
   "metadata": {},
   "source": [
    "ANS : \n",
    "1. When dealing with an imbalanced dataset, evaluating the performance of a machine learning model can be challenging. \n",
    "2. Confusion matrix: A confusion matrix is a table that summarizes the performance of a classification model.\n",
    "3. ROC curve and AUC: The Receiver Operating Characteristic (ROC) curve is a plot that shows the trade-off between sensitivity and specificity for different threshold values. \n",
    "The Area Under the Curve (AUC) is a metric that summarizes the ROC curve.\n",
    "4. Stratified k-fold cross-validation: In this technique, the dataset is split into k-folds, and the model is trained on k-1 folds and tested on the remaining fold. \n",
    "5. Resampling techniques: Resampling techniques involve modifying the original dataset to create a balanced dataset. \n",
    "6. Cost-sensitive learning: Cost-sensitive learning involves assigning different misclassification costs to different classes."
   ]
  },
  {
   "cell_type": "markdown",
   "id": "13dac48e-2ef2-4b73-a1a6-e4b83f120a8f",
   "metadata": {},
   "source": [
    "Q10. When attempting to estimate customer satisfaction for a project, you discover that the dataset isunbalanced, with the bulk of customers reporting being satisfied. What methods can you employ tobalance the dataset and down-sample the majority class?"
   ]
  },
  {
   "cell_type": "markdown",
   "id": "419f6a01-11f7-455a-ab5f-e949a7d04d96",
   "metadata": {},
   "source": [
    "ANS : When dealing with an imbalanced dataset with the majority class heavily outnumbering the minority class, one technique that can be used to balance the dataset is down-sampling the majority class.\n",
    "\n",
    "Here are some methods to down-sample the majority class:Random under-sampling, Cluster-based under-sampling, Tomek links, NearMiss, Edited Nearest Neighbors"
   ]
  },
  {
   "cell_type": "markdown",
   "id": "8dbe1677-75f6-41f8-beb5-c646cb191f5c",
   "metadata": {},
   "source": [
    "Q11. You discover that the dataset is unbalanced with a low percentage of occurrences while working on aproject that requires you to estimate the occurrence of a rare event. What methods can you employ tobalance the dataset and up-sample the minority class?"
   ]
  },
  {
   "cell_type": "markdown",
   "id": "bd8fab75-2c7f-406d-97ca-d7e249ca912b",
   "metadata": {},
   "source": [
    "ANS : \n",
    "When dealing with an imbalanced dataset with a minority class heavily outnumbered by the majority class, one technique that can be used to balance the dataset is up-sampling the minority class. \n",
    "\n",
    "Here are some methods to up-sample the minority class:\n",
    "\n",
    "Random over-sampling\n",
    "Synthetic Minority Over-sampling Technique (SMOTE)\n",
    "Adaptive Synthetic Sampling (ADASYN)\n",
    "Synthetic Minority Over-sampling Technique with Tree-based Inference (SMOTE-IT)"
   ]
  },
  {
   "cell_type": "markdown",
   "id": "a6bfec7b-fec9-4c44-acba-2ad4c7dd5790",
   "metadata": {},
   "source": []
  }
 ],
 "metadata": {
  "kernelspec": {
   "display_name": "Python 3 (ipykernel)",
   "language": "python",
   "name": "python3"
  },
  "language_info": {
   "codemirror_mode": {
    "name": "ipython",
    "version": 3
   },
   "file_extension": ".py",
   "mimetype": "text/x-python",
   "name": "python",
   "nbconvert_exporter": "python",
   "pygments_lexer": "ipython3",
   "version": "3.10.8"
  }
 },
 "nbformat": 4,
 "nbformat_minor": 5
}
