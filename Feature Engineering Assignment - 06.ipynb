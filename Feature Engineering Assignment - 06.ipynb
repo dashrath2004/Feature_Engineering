{
 "cells": [
  {
   "cell_type": "markdown",
   "id": "e0331e48-4178-419c-a795-c0db82d831ec",
   "metadata": {},
   "source": [
    "# Q1. Pearson correlation coefficient is a measure of the linear relationship between two variables. Suppose you have collected data on the amount of time students spend studying for an exam and their final exam scores. Calculate the Pearson correlation coefficient between these two variables and interpret the result."
   ]
  },
  {
   "cell_type": "code",
   "execution_count": 2,
   "id": "9a4786d1-9f5e-47ea-9553-d3fbf03193ab",
   "metadata": {},
   "outputs": [
    {
     "name": "stdout",
     "output_type": "stream",
     "text": [
      "Pearson Correlation Coefficient: 0.9440790280837751\n"
     ]
    }
   ],
   "source": [
    "import numpy as np\n",
    "\n",
    "\n",
    "studying_time = [5, 8, 4, 7, 6]\n",
    "exam_scores = [80, 90, 70, 85, 78]\n",
    "\n",
    "correlation_coefficient = np.corrcoef(studying_time, exam_scores)[0, 1]\n",
    "\n",
    "print(\"Pearson Correlation Coefficient:\", correlation_coefficient)\n"
   ]
  },
  {
   "cell_type": "markdown",
   "id": "648c4fe5-055e-4fa8-a497-cd2db4e08198",
   "metadata": {},
   "source": [
    "# Q2. Spearman's rank correlation is a measure of the monotonic relationship between two variables. Suppose you have collected data on the amount of sleep individuals get each night and their overall job satisfaction level on a scale of 1 to 10. Calculate the Spearman's rank correlation between these two variables and interpret the result."
   ]
  },
  {
   "cell_type": "code",
   "execution_count": 4,
   "id": "cc21ba93-00a9-4fb0-af8f-ee46940ccb80",
   "metadata": {},
   "outputs": [
    {
     "name": "stdout",
     "output_type": "stream",
     "text": [
      "Spearman's Rank Correlation: 0.9908114437536393\n",
      "p-value: 3.084398192794944e-08\n"
     ]
    }
   ],
   "source": [
    "import numpy as np\n",
    "from scipy.stats import spearmanr\n",
    "\n",
    "sleep_hours = [7, 6, 8, 5, 6, 9, 7, 8, 5, 4]\n",
    "job_satisfaction = [8, 6, 9, 4, 5, 10, 7, 9, 3, 2]\n",
    "\n",
    "correlation, p_value = spearmanr(sleep_hours, job_satisfaction)\n",
    "\n",
    "print(\"Spearman's Rank Correlation:\", correlation)\n",
    "print(\"p-value:\", p_value)\n"
   ]
  },
  {
   "cell_type": "markdown",
   "id": "e760cb9b-955f-4d9b-ab77-3d3b530e1df0",
   "metadata": {},
   "source": [
    "# Q3. Suppose you are conducting a study to examine the relationship between the number of hours of exercise per week and body mass index (BMI) in a sample of adults. You collected data on both variables for 50 participants. Calculate the Pearson correlation coefficient and the Spearman's rank correlation between these two variables and compare the results."
   ]
  },
  {
   "cell_type": "code",
   "execution_count": 5,
   "id": "d2aa5ec4-3ccb-4960-ad5f-ccb55967fa52",
   "metadata": {},
   "outputs": [
    {
     "name": "stdout",
     "output_type": "stream",
     "text": [
      "Pearson Correlation Coefficient: 0.9805963437735086\n",
      "Pearson p-value: 6.481965475556456e-35\n",
      "\n",
      "Spearman's Rank Correlation: 0.9807006795035904\n",
      "Spearman p-value: 5.717070934578251e-35\n"
     ]
    }
   ],
   "source": [
    "import numpy as np\n",
    "from scipy.stats import pearsonr, spearmanr\n",
    "\n",
    "exercise_hours = [3, 5, 2, 4, 6, 1, 4, 2, 3, 5, 0, 2, 4, 3, 6, 5, 2, 1, 3, 4, 5, 6, 2, 4, 3, 1, 5, 2, 3, 4, 1, 0, 6, 3, 2, 5, 4, 1, 3, 2, 4, 5, 6, 3, 2, 1, 4, 5, 0]\n",
    "bmi = [23.4, 26.7, 22.1, 25.0, 27.8, 21.2, 24.9, 22.5, 23.1, 26.0, 20.3, 22.4, 25.8, 23.6, 28.2, 25.5, 21.9, 21.1, 23.9, 25.7, 26.6, 29.0, 22.0, 24.5, 23.3, 20.5, 27.2, 22.8, 23.8, 25.2, 20.7, 19.1, 27.6, 23.2, 22.6, 26.4, 24.3, 21.0, 22.3, 22.7, 25.3, 26.1, 28.9, 23.7, 21.9, 20.4, 24.8, 27.1, 19.5]\n",
    "pearson_correlation, pearson_p_value = pearsonr(exercise_hours, bmi)\n",
    "spearman_correlation, spearman_p_value = spearmanr(exercise_hours, bmi)\n",
    "\n",
    "print(\"Pearson Correlation Coefficient:\", pearson_correlation)\n",
    "print(\"Pearson p-value:\", pearson_p_value)\n",
    "print(\"\\nSpearman's Rank Correlation:\", spearman_correlation)\n",
    "print(\"Spearman p-value:\", spearman_p_value)\n"
   ]
  },
  {
   "cell_type": "markdown",
   "id": "dfbb1745-8383-4503-b250-a7b1ebb7d766",
   "metadata": {},
   "source": [
    "# Q4. A researcher is interested in examining the relationship between the number of hours individuals spend watching television per day and their level of physical activity. The researcher collected data on both variables from a sample of 50 participants. Calculate the Pearson correlation coefficient between these two variables."
   ]
  },
  {
   "cell_type": "code",
   "execution_count": 9,
   "id": "e02e2ad6-e17e-42f4-8fb6-c8baf1c5f36b",
   "metadata": {},
   "outputs": [
    {
     "name": "stdout",
     "output_type": "stream",
     "text": [
      "Pearson Correlation Coefficient: -0.5581417860227623\n"
     ]
    }
   ],
   "source": [
    "import numpy as np\n",
    "\n",
    "# Sample data: TV hours and physical activity level\n",
    "tv_hours = [3, 4, 5, 2, 6, 1, 4, 2, 3, 5, 2, 4, 3, 6, 5, 2, 1, 3, 4, 5, 6, 2, 4, 3, 1, 5, 2, 3, 4, 1, 0, 6, 3, 2, 5, 4, 1, 3, 2, 4, 5, 6, 3, 2, 1, 4, 5, 0]\n",
    "physical_activity = [2, 3, 4, 2, 1, 4, 3, 2, 3, 1, 4, 3, 2, 1, 2, 3, 4, 3, 2, 1, 1, 4, 3, 2, 4, 1, 3, 2, 3, 4, 4, 1, 2, 1, 3, 2, 4, 3, 2, 3, 1, 2, 3, 4, 2, 1, 3, 2]\n",
    "\n",
    "# Calculate Pearson correlation coefficient\n",
    "correlation_coefficient = np.corrcoef(tv_hours, physical_activity)[0, 1]\n",
    "\n",
    "print(\"Pearson Correlation Coefficient:\", correlation_coefficient)\n"
   ]
  },
  {
   "cell_type": "markdown",
   "id": "39a4e485-9a75-43aa-8a2a-b002d3aacd1a",
   "metadata": {},
   "source": [
    "# Q5. A survey was conducted to examine the relationship between age and preference for a particular brand of soft drink. The survey results are shown below:"
   ]
  },
  {
   "cell_type": "code",
   "execution_count": 10,
   "id": "ba486726-5310-44e6-8fc7-235e6e872e7c",
   "metadata": {},
   "outputs": [
    {
     "name": "stdout",
     "output_type": "stream",
     "text": [
      "Frequency Table:\n",
      "Coke            3\n",
      "Pepsi           2\n",
      "Mountain Dew    1\n",
      "Name: Soft Drink Preference, dtype: int64\n"
     ]
    }
   ],
   "source": [
    "import pandas as pd\n",
    "\n",
    "data = {\n",
    "    'Age(Years)': [25, 42, 37, 19, 31, 28],\n",
    "    'Soft Drink Preference': ['Coke', 'Pepsi', 'Mountain Dew', 'Coke', 'Pepsi', 'Coke']\n",
    "}\n",
    "\n",
    "df = pd.DataFrame(data)\n",
    "frequency_table = df['Soft Drink Preference'].value_counts()\n",
    "\n",
    "print(\"Frequency Table:\")\n",
    "print(frequency_table)\n"
   ]
  },
  {
   "cell_type": "markdown",
   "id": "ac48d463-0939-48bc-aece-b5579626263a",
   "metadata": {},
   "source": [
    "# Q6. A company is interested in examining the relationship between the number of sales calls made per dayand the number of sales made per week. The company collected data on both variables from a sample of30 sales representatives. Calculate the Pearson correlation coefficient between these two variable"
   ]
  },
  {
   "cell_type": "code",
   "execution_count": 12,
   "id": "6fdd209c-b091-4489-abe6-8a4ce21d06a8",
   "metadata": {},
   "outputs": [
    {
     "name": "stdout",
     "output_type": "stream",
     "text": [
      "Pearson Correlation Coefficient: 0.9725083036966945\n"
     ]
    }
   ],
   "source": [
    "import numpy as np\n",
    "\n",
    "sales_calls_per_day = [10, 8, 15, 7, 9, 12, 11, 14, 13, 10, 9, 12, 8, 7, 10, 11, 13, 14, 12, 9, 10, 8, 11, 15, 14, 9, 12, 11, 10, 13]\n",
    "sales_per_week = [50, 40, 70, 35, 45, 60, 55, 65, 63, 48, 40, 52, 38, 37, 47, 56, 61, 67, 59, 42, 53, 41, 58, 68, 72, 42, 58, 54, 49, 64]\n",
    "correlation_coefficient = np.corrcoef(sales_calls_per_day, sales_per_week)[0, 1]\n",
    "\n",
    "print(\"Pearson Correlation Coefficient:\", correlation_coefficient)\n"
   ]
  },
  {
   "cell_type": "code",
   "execution_count": null,
   "id": "8659fb7b-b54f-4c48-b5c1-fb7bef57ea37",
   "metadata": {},
   "outputs": [],
   "source": []
  }
 ],
 "metadata": {
  "kernelspec": {
   "display_name": "Python 3 (ipykernel)",
   "language": "python",
   "name": "python3"
  },
  "language_info": {
   "codemirror_mode": {
    "name": "ipython",
    "version": 3
   },
   "file_extension": ".py",
   "mimetype": "text/x-python",
   "name": "python",
   "nbconvert_exporter": "python",
   "pygments_lexer": "ipython3",
   "version": "3.10.8"
  }
 },
 "nbformat": 4,
 "nbformat_minor": 5
}
