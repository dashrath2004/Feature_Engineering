{
 "cells": [
  {
   "cell_type": "markdown",
   "id": "94dd3bfa-eed8-4590-8afa-c71c4dc8e000",
   "metadata": {},
   "source": [
    "Q1. What is data encoding? How is it useful in data science?\n",
    "\n",
    "ANS :\n",
    "\n",
    "Data encoding is the process of converting data from one format or representation to another, in order to facilitate its storage, transmission, and processing.\n",
    "In data science, data encoding is a fundamental concept that plays a key role in various data-related tasks, such as data preparation, feature engineering, data modeling, and machine learning.\n",
    "\n",
    "Here are some ways in which data encoding is useful in data science: Data compression, Data normalization, Feature extraction, Machine learning"
   ]
  },
  {
   "cell_type": "markdown",
   "id": "0ea1f5dd-925c-4263-a1aa-42047b6f1b48",
   "metadata": {},
   "source": [
    "Q2. What is nominal encoding? Provide an example of how you would use it in a real-world scenario.\n",
    "\n",
    "ANS :\n",
    "\n",
    "Nominal encoding, also known as one-hot encoding, is a data encoding technique that is used to convert categorical variables into numerical features. \n",
    "\n",
    "For example, if you have a feature that represents the city of a person, you can use nominal encoding to assign each city a different number, such as 1 for Delhi, 2 for Bangalore, 3 for Mumbai, etc."
   ]
  },
  {
   "cell_type": "markdown",
   "id": "559548e9-a128-425c-9b9f-d594ce081197",
   "metadata": {},
   "source": [
    "Q3. In what situations is nominal encoding preferred over one-hot encoding? Provide a practical example.\n",
    "\n",
    "ANS : \n",
    "\n",
    "Nominal encoding and one-hot encoding are two common techniques used for encoding categorical variables into numerical features.\n",
    "\n",
    "Nominal encoding may be preferred over one-hot encoding in certain situations where the number of categories is large, and one-hot encoding would result in a large number of columns or features. \n",
    "\n",
    "For example, if you have a feature that represents the country of a person, and there are more than 200 countries in the world, using one-hot encoding would create more than 200 new columns, which can be inefficient and redundant. Nominal encoding would only create one column with numbers from 1 to 200, which can save space and time."
   ]
  },
  {
   "cell_type": "markdown",
   "id": "d039d450-a543-4f77-8245-c0a152cde394",
   "metadata": {},
   "source": [
    "Q4. Suppose you have a dataset containing categorical data with 5 unique values. Which encoding technique would you use to transform this data into a format suitable for machine learning algorithms? Explain why you made this choice.\n",
    "\n",
    "ANS :\n",
    "\n",
    "If the dataset contains categorical data with 5 unique values, I would most likely use one-hot encoding to transform this data into a format suitable for machine learning algorithms. \n",
    "\n",
    "Here's why:\n",
    "\n",
    "One-hot encoding is a common technique used for encoding categorical data into numerical features.\n",
    "\n",
    "In one-hot encoding, each unique category value is represented by a binary column or feature, where a value of 1 indicates the presence of that category and a value of 0 indicates the absence of that category."
   ]
  },
  {
   "cell_type": "markdown",
   "id": "00e4d469-bd84-4c58-9629-c471fb0666f3",
   "metadata": {},
   "source": [
    "Q5. In a machine learning project, you have a dataset with 1000 rows and 5 columns. Two of the columns are categorical, and the remaining three columns are numerical. If you were to use nominal encoding totransform the categorical data, how many new columns would be created? Show your calculations.\n",
    "\n",
    "ANS : \n",
    "\n",
    "To answer this question, we need to know how many categories are there in each of the two categorical columns. Let’s assume that the first categorical column has 4 categories, and the second categorical column has 3 categories. Then, using nominal encoding, we would create one new column for each categorical column, and assign a number from 1 to 4 for the first column, and a number from 1 to 3 for the second column.\n",
    "\n",
    "Therefore, the total number of new columns created would be 2, and the total number of columns in the transformed dataset would be 5 + 2 = 7. Here is an example of how the nominal encoding would look like:\n",
    "\n",
    "OriginalCategorical Column1 OriginalCategorical Column2\tNominalEncoding Column1 NominalEncoding Column2\n",
    "\t        A\t\t                    X                         1                       1\n",
    "            B\t\t                    Y                         2                       2\n",
    "            C\t\t                    Z                         3                       3\n",
    "            D\t\t                    X                         4                       1\n",
    "            A\t\t                    Y                         1                       3\n",
    "            C\t\t\t                Z                         3                       2\t        "
   ]
  },
  {
   "cell_type": "markdown",
   "id": "337128b2-933a-42b9-ad4e-23ecd4e28550",
   "metadata": {},
   "source": [
    "Q6. You are working with a dataset containing information about different types of animals, including theirspecies, habitat, and diet. Which encoding technique would you use to transform the categorical data intoa format suitable for machine learning algorithms? Justify your answer.\n",
    "\n",
    "ANS :\n",
    "\n",
    "In a dataset containing information about different types of animals, including categorical features like \"species,\" \"habitat,\" and \"diet,\" the appropriate choice of encoding technique depends on the nature of these categorical variables. Let's consider each feature separately:\n",
    "\n",
    "1.Species (Nominal Data): The \"species\" feature likely represents distinct categories of animals, such as \"lion,\" \"elephant,\" \"giraffe,\" and so on. Since species categories are nominal and don't have a natural order, using nominal encoding (label encoding) could be a suitable choice. You would assign a unique integer to each species category. However, it's important to note that using nominal encoding in this case might not be the best choice, especially if your machine learning algorithm interprets these numbers as ordinal. Therefore, for better results, you might consider using one-hot encoding.\n",
    "\n",
    "2.Habitat (Nominal Data): The \"habitat\" feature could include categories like \"forest,\" \"desert,\" \"ocean,\" etc. These categories are also nominal with no inherent order. Similar to the \"species\" feature, you could use nominal encoding, but given the nature of habitat data, one-hot encoding might be a more appropriate choice. One-hot encoding would create binary columns for each habitat category, and each animal's habitat would be represented by a single \"1\" in the corresponding column.\n",
    "\n",
    "3.Diet (Nominal Data): The \"diet\" feature might have categories like \"carnivore,\" \"herbivore,\" and \"omnivore.\" These categories are nominal as well, but unlike the previous features, there might be a logical order implied (carnivores eat meat, herbivores eat plants, etc.). In this case, you could consider using ordinal encoding, where you assign numeric values based on the logical order of the categories. For example, \"carnivore\" might be assigned 0, \"herbivore\" 1, and \"omnivore\" 2.\n",
    "\n",
    "In summary, the choice of encoding technique depends on the specific nature of each categorical feature:\n",
    "\n",
    "For nominal categorical variables (like \"species\" and \"habitat\"), one-hot encoding is generally a good choice. It prevents any unintended ordinal relationship between categories and provides a clear representation of the categorical data.\n",
    "\n",
    "For categorical variables with a clear logical order (like \"diet\"), ordinal encoding could be considered. However, if you want to avoid assuming an ordinal relationship, you could still opt for one-hot encoding.\n",
    "\n",
    "Always consider the characteristics of your data, the machine learning algorithms you plan to use, and the potential impact of your encoding choice on the results when deciding which technique to use."
   ]
  },
  {
   "cell_type": "markdown",
   "id": "fca61b55-b78b-4c6a-950f-1f9b5b824636",
   "metadata": {},
   "source": [
    "Q7. You are working on a project that involves predicting customer churn for a telecommunications company. You have a dataset with 5 features, including the customer's gender, age, contract type,monthly charges, and tenure. Which encoding technique(s) would you use to transform the categoricaldata into numerical data? Provide a step-by-step explanation of how you would implement the encoding.\n",
    "\n",
    "ANS : \n",
    "\n",
    "In this scenario, the categorical feature is the \"Gender\" and we need to encode it into numerical data.\n",
    "\n",
    "There are several encoding techniques that we can use, such as one-hot encoding, ordinal encoding, target encoding, or binary encoding.\n",
    "\n",
    "Here's a step-by-step explanation of One Hot Encoding : "
   ]
  },
  {
   "cell_type": "code",
   "execution_count": 1,
   "id": "6fe2bce2-7f68-4e50-b27f-d593b5d21be9",
   "metadata": {},
   "outputs": [],
   "source": [
    "import pandas as pd\n",
    "from sklearn.preprocessing import OneHotEncoder\n",
    "\n",
    "df = pd.DataFrame({'gender': ['male', 'female', 'male', 'female'],\n",
    "                   'contract_type': ['monthly', 'annual', 'monthly', 'annual'],\n",
    "                   'age' : [30, 45, 25, 32],\n",
    "                   'monthly_charges': [100, 150, 200, 250],\n",
    "                   'tenure': [1, 2, 3, 4]})"
   ]
  },
  {
   "cell_type": "code",
   "execution_count": 2,
   "id": "169f61fd-f6e0-4b02-97ad-2ab741cfa42c",
   "metadata": {},
   "outputs": [
    {
     "data": {
      "text/html": [
       "<div>\n",
       "<style scoped>\n",
       "    .dataframe tbody tr th:only-of-type {\n",
       "        vertical-align: middle;\n",
       "    }\n",
       "\n",
       "    .dataframe tbody tr th {\n",
       "        vertical-align: top;\n",
       "    }\n",
       "\n",
       "    .dataframe thead th {\n",
       "        text-align: right;\n",
       "    }\n",
       "</style>\n",
       "<table border=\"1\" class=\"dataframe\">\n",
       "  <thead>\n",
       "    <tr style=\"text-align: right;\">\n",
       "      <th></th>\n",
       "      <th>gender</th>\n",
       "      <th>contract_type</th>\n",
       "      <th>age</th>\n",
       "      <th>monthly_charges</th>\n",
       "      <th>tenure</th>\n",
       "    </tr>\n",
       "  </thead>\n",
       "  <tbody>\n",
       "    <tr>\n",
       "      <th>0</th>\n",
       "      <td>male</td>\n",
       "      <td>monthly</td>\n",
       "      <td>30</td>\n",
       "      <td>100</td>\n",
       "      <td>1</td>\n",
       "    </tr>\n",
       "    <tr>\n",
       "      <th>1</th>\n",
       "      <td>female</td>\n",
       "      <td>annual</td>\n",
       "      <td>45</td>\n",
       "      <td>150</td>\n",
       "      <td>2</td>\n",
       "    </tr>\n",
       "    <tr>\n",
       "      <th>2</th>\n",
       "      <td>male</td>\n",
       "      <td>monthly</td>\n",
       "      <td>25</td>\n",
       "      <td>200</td>\n",
       "      <td>3</td>\n",
       "    </tr>\n",
       "    <tr>\n",
       "      <th>3</th>\n",
       "      <td>female</td>\n",
       "      <td>annual</td>\n",
       "      <td>32</td>\n",
       "      <td>250</td>\n",
       "      <td>4</td>\n",
       "    </tr>\n",
       "  </tbody>\n",
       "</table>\n",
       "</div>"
      ],
      "text/plain": [
       "   gender contract_type  age  monthly_charges  tenure\n",
       "0    male       monthly   30              100       1\n",
       "1  female        annual   45              150       2\n",
       "2    male       monthly   25              200       3\n",
       "3  female        annual   32              250       4"
      ]
     },
     "execution_count": 2,
     "metadata": {},
     "output_type": "execute_result"
    }
   ],
   "source": [
    "df "
   ]
  },
  {
   "cell_type": "code",
   "execution_count": 3,
   "id": "7a170682-d649-438e-a0d7-a0612c456f92",
   "metadata": {},
   "outputs": [],
   "source": [
    "encoder=OneHotEncoder()"
   ]
  },
  {
   "cell_type": "code",
   "execution_count": 4,
   "id": "35989186-8201-4f0c-95fe-00b572722b23",
   "metadata": {},
   "outputs": [],
   "source": [
    "encoded=encoder.fit_transform(df[['gender', 'contract_type']])"
   ]
  },
  {
   "cell_type": "code",
   "execution_count": 5,
   "id": "36769059-ba83-4f72-a0dc-b2407d11d692",
   "metadata": {},
   "outputs": [
    {
     "data": {
      "text/html": [
       "<div>\n",
       "<style scoped>\n",
       "    .dataframe tbody tr th:only-of-type {\n",
       "        vertical-align: middle;\n",
       "    }\n",
       "\n",
       "    .dataframe tbody tr th {\n",
       "        vertical-align: top;\n",
       "    }\n",
       "\n",
       "    .dataframe thead th {\n",
       "        text-align: right;\n",
       "    }\n",
       "</style>\n",
       "<table border=\"1\" class=\"dataframe\">\n",
       "  <thead>\n",
       "    <tr style=\"text-align: right;\">\n",
       "      <th></th>\n",
       "      <th>gender_female</th>\n",
       "      <th>gender_male</th>\n",
       "      <th>contract_type_annual</th>\n",
       "      <th>contract_type_monthly</th>\n",
       "    </tr>\n",
       "  </thead>\n",
       "  <tbody>\n",
       "    <tr>\n",
       "      <th>0</th>\n",
       "      <td>0.0</td>\n",
       "      <td>1.0</td>\n",
       "      <td>0.0</td>\n",
       "      <td>1.0</td>\n",
       "    </tr>\n",
       "    <tr>\n",
       "      <th>1</th>\n",
       "      <td>1.0</td>\n",
       "      <td>0.0</td>\n",
       "      <td>1.0</td>\n",
       "      <td>0.0</td>\n",
       "    </tr>\n",
       "    <tr>\n",
       "      <th>2</th>\n",
       "      <td>0.0</td>\n",
       "      <td>1.0</td>\n",
       "      <td>0.0</td>\n",
       "      <td>1.0</td>\n",
       "    </tr>\n",
       "    <tr>\n",
       "      <th>3</th>\n",
       "      <td>1.0</td>\n",
       "      <td>0.0</td>\n",
       "      <td>1.0</td>\n",
       "      <td>0.0</td>\n",
       "    </tr>\n",
       "  </tbody>\n",
       "</table>\n",
       "</div>"
      ],
      "text/plain": [
       "   gender_female  gender_male  contract_type_annual  contract_type_monthly\n",
       "0            0.0          1.0                   0.0                    1.0\n",
       "1            1.0          0.0                   1.0                    0.0\n",
       "2            0.0          1.0                   0.0                    1.0\n",
       "3            1.0          0.0                   1.0                    0.0"
      ]
     },
     "execution_count": 5,
     "metadata": {},
     "output_type": "execute_result"
    }
   ],
   "source": [
    "import pandas as pd\n",
    "pd.DataFrame(encoded.toarray(),columns=encoder.get_feature_names_out())"
   ]
  },
  {
   "cell_type": "code",
   "execution_count": 6,
   "id": "f8576105-ed39-40d4-ad75-76c32878dc61",
   "metadata": {},
   "outputs": [],
   "source": [
    "encoded_df = pd.DataFrame(encoded.toarray(),columns=encoder.get_feature_names_out())"
   ]
  },
  {
   "cell_type": "code",
   "execution_count": 7,
   "id": "0b65ba52-9e2c-4253-8c8c-34fb2551c6bf",
   "metadata": {},
   "outputs": [
    {
     "data": {
      "text/html": [
       "<div>\n",
       "<style scoped>\n",
       "    .dataframe tbody tr th:only-of-type {\n",
       "        vertical-align: middle;\n",
       "    }\n",
       "\n",
       "    .dataframe tbody tr th {\n",
       "        vertical-align: top;\n",
       "    }\n",
       "\n",
       "    .dataframe thead th {\n",
       "        text-align: right;\n",
       "    }\n",
       "</style>\n",
       "<table border=\"1\" class=\"dataframe\">\n",
       "  <thead>\n",
       "    <tr style=\"text-align: right;\">\n",
       "      <th></th>\n",
       "      <th>gender</th>\n",
       "      <th>contract_type</th>\n",
       "      <th>age</th>\n",
       "      <th>monthly_charges</th>\n",
       "      <th>tenure</th>\n",
       "      <th>gender_female</th>\n",
       "      <th>gender_male</th>\n",
       "      <th>contract_type_annual</th>\n",
       "      <th>contract_type_monthly</th>\n",
       "    </tr>\n",
       "  </thead>\n",
       "  <tbody>\n",
       "    <tr>\n",
       "      <th>0</th>\n",
       "      <td>male</td>\n",
       "      <td>monthly</td>\n",
       "      <td>30</td>\n",
       "      <td>100</td>\n",
       "      <td>1</td>\n",
       "      <td>0.0</td>\n",
       "      <td>1.0</td>\n",
       "      <td>0.0</td>\n",
       "      <td>1.0</td>\n",
       "    </tr>\n",
       "    <tr>\n",
       "      <th>1</th>\n",
       "      <td>female</td>\n",
       "      <td>annual</td>\n",
       "      <td>45</td>\n",
       "      <td>150</td>\n",
       "      <td>2</td>\n",
       "      <td>1.0</td>\n",
       "      <td>0.0</td>\n",
       "      <td>1.0</td>\n",
       "      <td>0.0</td>\n",
       "    </tr>\n",
       "    <tr>\n",
       "      <th>2</th>\n",
       "      <td>male</td>\n",
       "      <td>monthly</td>\n",
       "      <td>25</td>\n",
       "      <td>200</td>\n",
       "      <td>3</td>\n",
       "      <td>0.0</td>\n",
       "      <td>1.0</td>\n",
       "      <td>0.0</td>\n",
       "      <td>1.0</td>\n",
       "    </tr>\n",
       "    <tr>\n",
       "      <th>3</th>\n",
       "      <td>female</td>\n",
       "      <td>annual</td>\n",
       "      <td>32</td>\n",
       "      <td>250</td>\n",
       "      <td>4</td>\n",
       "      <td>1.0</td>\n",
       "      <td>0.0</td>\n",
       "      <td>1.0</td>\n",
       "      <td>0.0</td>\n",
       "    </tr>\n",
       "  </tbody>\n",
       "</table>\n",
       "</div>"
      ],
      "text/plain": [
       "   gender contract_type  age  monthly_charges  tenure  gender_female  \\\n",
       "0    male       monthly   30              100       1            0.0   \n",
       "1  female        annual   45              150       2            1.0   \n",
       "2    male       monthly   25              200       3            0.0   \n",
       "3  female        annual   32              250       4            1.0   \n",
       "\n",
       "   gender_male  contract_type_annual  contract_type_monthly  \n",
       "0          1.0                   0.0                    1.0  \n",
       "1          0.0                   1.0                    0.0  \n",
       "2          1.0                   0.0                    1.0  \n",
       "3          0.0                   1.0                    0.0  "
      ]
     },
     "execution_count": 7,
     "metadata": {},
     "output_type": "execute_result"
    }
   ],
   "source": [
    "pd.concat([df,encoded_df],axis=1)"
   ]
  },
  {
   "cell_type": "code",
   "execution_count": null,
   "id": "422d1492-c5aa-412a-953d-9ad0b28f1695",
   "metadata": {},
   "outputs": [],
   "source": []
  }
 ],
 "metadata": {
  "kernelspec": {
   "display_name": "Python 3 (ipykernel)",
   "language": "python",
   "name": "python3"
  },
  "language_info": {
   "codemirror_mode": {
    "name": "ipython",
    "version": 3
   },
   "file_extension": ".py",
   "mimetype": "text/x-python",
   "name": "python",
   "nbconvert_exporter": "python",
   "pygments_lexer": "ipython3",
   "version": "3.10.8"
  }
 },
 "nbformat": 4,
 "nbformat_minor": 5
}
