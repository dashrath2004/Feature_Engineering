{
 "cells": [
  {
   "cell_type": "markdown",
   "id": "7b9f28f4-68bc-42d7-b4cc-f6c15d020f57",
   "metadata": {},
   "source": [
    "Q1. What is the difference between Ordinal Encoding and Label Encoding? Provide an example of when you might choose one over the other.\n",
    "\n",
    "ANS :\n",
    "\n",
    "Ordinal Encoding and Label Encoding are two techniques to convert categorical data into numerical data. Ordinal Encoding assigns an integer value to each category based on its order or ranking, while Label Encoding assigns an integer value to each category based on its frequency or alphabetical order.\n",
    "\n",
    "You might choose Ordinal Encoding when the categorical variable has an inherent order, such as low, medium, high or small, medium, large. You might choose Label Encoding when encoding the target variable, especially for categorical variables with no inherent order.\n",
    "\n",
    "Some examples of when you might use Ordinal Encoding are:\n",
    "\n",
    "Encoding education level as 1 for primary, 2 for secondary, 3 for tertiary, etc.\n",
    "Encoding customer satisfaction as 1 for very dissatisfied, 2 for somewhat dissatisfied, 3 for neutral, 4 for somewhat satisfied, 5 for very satisfied, etc.\n",
    "\n",
    "Some examples of when you might use Label Encoding are:\n",
    "\n",
    "Encoding animal type as 1 for dog, 2 for cat, 3 for bird, etc.\n",
    "Encoding movie genre as 1 for action, 2 for comedy, 3 for drama, etc."
   ]
  },
  {
   "cell_type": "markdown",
   "id": "6155d8f2-9976-4fdc-8d23-629e701a9d90",
   "metadata": {},
   "source": [
    "Q2. Explain how Target Guided Ordinal Encoding works and provide an example of when you might use it in a machine learning project.\n",
    "\n",
    "ANS :\n",
    "\n",
    "Target Guided Ordinal Encoding is a technique to encode categorical variables based on the target variable. It assigns ordinal numbers to the categories according to the mean of the target variable for each category.\n",
    "\n",
    "For example, if we have a categorical variable city and a target variable salary, we can encode the city values by the average salary of each city. The city with the highest mean salary will get the highest ordinal number, and the city with the lowest mean salary will get the lowest ordinal number. This way, we can preserve the information of the target variable in the encoded categorical variable.\n",
    "\n",
    "This technique is useful when the target variable is ordinal, meaning that it has a natural order, such as low, medium, and high. It can also help to reduce the dimensionality of the categorical variable and avoid creating too many dummy variables with one-hot encoding. "
   ]
  },
  {
   "cell_type": "markdown",
   "id": "111f14f8-6d44-42d2-bfa0-08aeed6b3cf3",
   "metadata": {},
   "source": [
    "Q3. Define covariance and explain why it is important in statistical analysis. How is covariance calculated?\n",
    "\n",
    "ANS : \n",
    "\n",
    "Covariance is a measure of the joint variability between two random variables. It measures the degree to which two variables vary together.\n",
    "\n",
    "If two variables have a positive covariance, it means that they tend to increase or decrease together.\n",
    "\n",
    "If they have a negative covariance, it means that one variable tends to increase when the other decreases.\n",
    "\n",
    "Covariance is an important measure in statistical analysis because it helps us understand the relationship between two variables.\n",
    "\n",
    "Covariance can be calculated using the following formula:\n",
    "cov(X,Y) = E[(X - E[X])(Y - E[Y])]"
   ]
  },
  {
   "cell_type": "markdown",
   "id": "451c6084-f92d-4cf1-84e9-969468bb189f",
   "metadata": {},
   "source": [
    "Q4. For a dataset with the following categorical variables: Color (red, green, blue), Size (small, medium, large), and Material (wood, metal, plastic), perform label encoding using Python's scikit-learn library. Show your code and explain the output."
   ]
  },
  {
   "cell_type": "code",
   "execution_count": 1,
   "id": "30adf279-ed9d-44e8-8633-23d159f37e29",
   "metadata": {},
   "outputs": [
    {
     "name": "stdout",
     "output_type": "stream",
     "text": [
      "   Color  Size  Material\n",
      "0      2     2         2\n",
      "1      1     1         0\n",
      "2      0     0         1\n",
      "3      2     1         0\n",
      "4      0     2         2\n"
     ]
    }
   ],
   "source": [
    "from sklearn.preprocessing import LabelEncoder\n",
    "import pandas as pd\n",
    "\n",
    "# Create a sample dataset\n",
    "data = {'Color': ['red', 'green', 'blue', 'red', 'blue'],\n",
    "        'Size': ['small', 'medium', 'large', 'medium', 'small'],\n",
    "        'Material': ['wood', 'metal', 'plastic', 'metal', 'wood']}\n",
    "df = pd.DataFrame(data)\n",
    "\n",
    "# Initialize the label encoder\n",
    "le = LabelEncoder()\n",
    "\n",
    "# Encode the categorical variables\n",
    "df['Color'] = le.fit_transform(df['Color'])\n",
    "df['Size'] = le.fit_transform(df['Size'])\n",
    "df['Material'] = le.fit_transform(df['Material'])\n",
    "\n",
    "print(df)"
   ]
  },
  {
   "cell_type": "markdown",
   "id": "e8a25bf9-6ddd-4fe4-8fb7-39edc999ba67",
   "metadata": {},
   "source": [
    "The output shows that each category in each column has been replaced by a numerical label. For example, in the Color column, red is encoded as 2, green as 1 and blue as 0. The same logic applies to the other columns. Note that the order of the labels is determined by the alphabetical order of the categories."
   ]
  },
  {
   "cell_type": "markdown",
   "id": "48232889-11d8-4e42-9f9b-e0d43a86eb2d",
   "metadata": {},
   "source": [
    "Q5. Calculate the covariance matrix for the following variables in a dataset: Age, Income, and Education level. Interpret the results."
   ]
  },
  {
   "cell_type": "code",
   "execution_count": 2,
   "id": "ee575846-f5d0-4010-8f06-450d790ef9eb",
   "metadata": {},
   "outputs": [
    {
     "name": "stdout",
     "output_type": "stream",
     "text": [
      "[[1.195e+02 2.075e+05 3.350e+01]\n",
      " [2.075e+05 4.250e+08 6.000e+04]\n",
      " [3.350e+01 6.000e+04 1.000e+01]]\n"
     ]
    }
   ],
   "source": [
    "import numpy as np\n",
    "\n",
    "# Define the variables as numpy arrays\n",
    "age = np.array([25, 32, 45, 28, 50])\n",
    "income = np.array([50000, 75000, 100000, 60000, 90000])\n",
    "education = np.array([12, 16, 18, 14, 20])\n",
    "\n",
    "# Stack the variables into a single 2D array\n",
    "data = np.vstack((age, income, education)).T\n",
    "\n",
    "# Calculate the covariance matrix\n",
    "cov_matrix = np.cov(data, rowvar=False)\n",
    "\n",
    "# Print the covariance matrix\n",
    "print(cov_matrix)"
   ]
  },
  {
   "cell_type": "markdown",
   "id": "8d3934aa-aeda-46cb-8583-ee97d19d7ed1",
   "metadata": {},
   "source": [
    "Q6. You are working on a machine learning project with a dataset containing several categorical variables, including \"Gender\" (Male/Female), \"Education Level\" (High School/Bachelor's/Master's/PhD), and \"Employment Status\" (Unemployed/Part-Time/Full-Time). Which encoding method would you use for each variable, and why?\n",
    "\n",
    "ANS :\n",
    "\n",
    "There are different encoding methods for categorical variables, depending on the type and number of categories, and the relationship between the categories and the target variable. Here are some possible encoding methods for each variable in your dataset:\n",
    "\n",
    "Gender: This is a binary variable with only two categories: Male and Female. You can use integer encoding or one-hot encoding for this variable. Integer encoding assigns a numerical value (such as 0 or 1) to each category, while one-hot encoding creates a new column for each category with a binary value (such as 0 or 1) indicating its presence or absence. Both methods are simple and effective, but one-hot encoding may create more columns and increase the dimensionality of the data.\n",
    "\n",
    "Education Level: This is an ordinal variable with four categories: High School, Bachelor’s, Master’s, and PhD. Ordinal variables have an inherent order or ranking among the categories. You can use integer encoding or ordinal encoding for this variable. Integer encoding assigns a numerical value (such as 1, 2, 3, 4) to each category based on its order, while ordinal encoding uses a custom mapping function to assign a numerical value (such as 0.25, 0.5, 0.75, 1) to each category based on its order and proportion. Both methods preserve the order of the categories, but ordinal encoding may capture the relative difference between the categories better.\n",
    "\n",
    "Employment Status: This is a nominal variable with three categories: Unemployed, Part-Time, and Full-Time. Nominal variables have no inherent order or ranking among the categories. You can use one-hot encoding or target encoding for this variable. One-hot encoding creates a new column for each category with a binary value indicating its presence or absence, while target encoding calculates the mean of the target variable for each category and replaces the category with that mean. Both methods can handle multiple categories, but one-hot encoding may create more columns and increase the dimensionality of the data, while target encoding may introduce leakage or overfitting if not done properly."
   ]
  },
  {
   "cell_type": "markdown",
   "id": "11fb4b79-f118-4048-9d34-1d9e4c5ad147",
   "metadata": {},
   "source": [
    "Q7. You are analyzing a dataset with two continuous variables, \"Temperature\" and \"Humidity\", and two categorical variables, \"Weather Condition\" (Sunny/Cloudy/Rainy) and \"Wind Direction\" (North/South/ East/West). Calculate the covariance between each pair of variables and interpret the results.\n",
    "\n",
    "ANS :\n",
    "\n",
    "To calculate the covariance between each pair of variables, we can use the following formula:\n",
    "Covariance(X,Y) = (1/N) * Σ((Xi - Xmean) * (Yi - Ymean))\n",
    "\n",
    "To interpret the results, a positive covariance indicates that the two variables tend to move in the same direction,while a negative covariance indicates that the two variables tend to move in opposite directions.\n",
    "\n",
    "A covariance of zero indicates that there is no linear relationship between the two variables.\n",
    "\n",
    "Here are the covariances between each pair of variables:\n",
    "\n",
    "Covariance(Temperature, Humidity): This will tell us how the two continuous variables, Temperature and Humidity, are related to each other.\n",
    "\n",
    "Covariance(Temperature, Weather Condition): This will tell us how the temperature varies with different weather conditions.\n",
    "\n",
    "Covariance(Temperature, Wind Direction): This will tell us how the temperature varies with different wind directions.\n",
    "\n",
    "Covariance(Humidity, Weather Condition): This will tell us how humidity varies with different weather conditions. \n",
    "\n",
    "Covariance(Humidity, Wind Direction): This will tell us how humidity varies with different wind directions.\n",
    "\n",
    "Covariance(Weather Condition, Wind Direction): This will tell us how the two categorical variables, Weather Condition and Wind Direction, are related to each other."
   ]
  },
  {
   "cell_type": "code",
   "execution_count": null,
   "id": "020d9bbc-f27c-4d03-b21c-79bfac74277d",
   "metadata": {},
   "outputs": [],
   "source": []
  }
 ],
 "metadata": {
  "kernelspec": {
   "display_name": "Python 3 (ipykernel)",
   "language": "python",
   "name": "python3"
  },
  "language_info": {
   "codemirror_mode": {
    "name": "ipython",
    "version": 3
   },
   "file_extension": ".py",
   "mimetype": "text/x-python",
   "name": "python",
   "nbconvert_exporter": "python",
   "pygments_lexer": "ipython3",
   "version": "3.10.8"
  }
 },
 "nbformat": 4,
 "nbformat_minor": 5
}
