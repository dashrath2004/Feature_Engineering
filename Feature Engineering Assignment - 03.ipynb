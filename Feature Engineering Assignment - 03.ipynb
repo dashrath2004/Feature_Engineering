{
 "cells": [
  {
   "cell_type": "markdown",
   "id": "be457c27-186f-4d3e-ac54-b7a92ad655af",
   "metadata": {},
   "source": [
    "Q1. What is Min-Max scaling, and how is it used in data preprocessing? Provide an example to illustrate its application.\n",
    "\n",
    "ANS :\n",
    "\n",
    "Min-Max scaling is a technique of data normalization that transforms the features to a range between 0 and 1 (or any other range specified by the user) 1. It is used to reduce the effect of outliers and scale the features to a common range.\n",
    "\n",
    "This is achieved by subtracting the minimum value of each feature from all its values and then dividing by the range of the feature, which is the difference between the maximum and minimum values.\n",
    "X_scaled = (X - X_min) / (X_max - X_min)."
   ]
  },
  {
   "cell_type": "code",
   "execution_count": 1,
   "id": "c04cd115-3bf6-4f51-a186-14032f7913e1",
   "metadata": {},
   "outputs": [
    {
     "name": "stdout",
     "output_type": "stream",
     "text": [
      "[[0.   0.  ]\n",
      " [0.25 0.25]\n",
      " [0.5  0.5 ]\n",
      " [1.   1.  ]]\n"
     ]
    }
   ],
   "source": [
    "# Import the library\n",
    "from sklearn.preprocessing import MinMaxScaler\n",
    "\n",
    "# Create an array of data\n",
    "X = [[-1, 2], [-0.5, 6], [0, 10], [1, 18]]\n",
    "\n",
    "# Create a scaler object\n",
    "scaler = MinMaxScaler()\n",
    "\n",
    "# Fit and transform the data\n",
    "X_scaled = scaler.fit_transform(X)\n",
    "\n",
    "# Print the scaled data\n",
    "print(X_scaled)"
   ]
  },
  {
   "cell_type": "code",
   "execution_count": null,
   "id": "5fb36dc1-19b4-4ce6-82c6-89e45cf75d11",
   "metadata": {},
   "outputs": [],
   "source": []
  },
  {
   "cell_type": "markdown",
   "id": "284e9af9-fd83-4d33-b809-3acb888ee3d0",
   "metadata": {},
   "source": [
    "Q2. What is the Unit Vector technique in feature scaling, and how does it differ from Min-Max scaling? Provide an example to illustrate its application.\n",
    "\n",
    "ANS :\n",
    "    \n",
    "The Unit Vector technique in feature scaling, also known as normalization, is a preprocessing technique that rescales the features of a dataset so that each feature has a unit norm. \n",
    "\n",
    "This means that the magnitude of each feature vector is 1. It is achieved by dividing each feature value by the Euclidean norm of the feature vector, which is the square root of the sum of the squares of all the feature values.\n",
    "\n",
    "The formula for Unit Vector scaling is:\n",
    "X_norm = X / ||X||"
   ]
  },
  {
   "cell_type": "code",
   "execution_count": 2,
   "id": "21168bec-54b4-4d78-b07c-c4500ead42d9",
   "metadata": {},
   "outputs": [
    {
     "name": "stdout",
     "output_type": "stream",
     "text": [
      "[[-0.4472136   0.89442719]\n",
      " [-0.08304548  0.99654576]\n",
      " [ 0.          1.        ]\n",
      " [ 0.05547002  0.99846035]]\n"
     ]
    }
   ],
   "source": [
    "# Import the library\n",
    "from sklearn.preprocessing import Normalizer\n",
    "\n",
    "# Create an array of data\n",
    "X = [[-1, 2], [-0.5, 6], [0, 10], [1, 18]]\n",
    "\n",
    "# Create a normalizer object\n",
    "normalizer = Normalizer()\n",
    "\n",
    "# Fit and transform the data\n",
    "X_normalized = normalizer.fit_transform(X)\n",
    "\n",
    "# Print the normalized data\n",
    "print(X_normalized)\n"
   ]
  },
  {
   "cell_type": "code",
   "execution_count": null,
   "id": "73f51832-508e-42ed-9e45-f6f25a4545fb",
   "metadata": {},
   "outputs": [],
   "source": []
  },
  {
   "cell_type": "markdown",
   "id": "b9d60f4f-ecfc-43fc-aa73-bd0b2a1b8486",
   "metadata": {},
   "source": [
    "Q3. What is PCA (Principle Component Analysis), and how is it used in dimensionality reduction? Provide an example to illustrate its application.\n",
    "\n",
    "ANS :\n",
    "\n",
    "PCA, or Principal Component Analysis, is a statistical method used for reducing the dimensionality of a dataset while retaining most of the important information.\n",
    "PCA is commonly used in data analysis and machine learning for reducing the dimensionality of large datasets, as it can help to simplify complex data by identifying underlying patterns and relationships among variables. \n",
    "\n",
    "An example of the application of PCA would be in analyzing a dataset of images, where each image contains a large number of pixels. \n",
    "Using PCA, we could reduce the number of variables by identifying the principal components that capture the most important patterns in the data. "
   ]
  },
  {
   "cell_type": "markdown",
   "id": "5840e83c-0a21-4243-bf87-7027b6cee44d",
   "metadata": {},
   "source": [
    "Q4. What is the relationship between PCA and Feature Extraction, and how can PCA be used for Feature Extraction? Provide an example to illustrate this concept.\n",
    "\n",
    "ANS : \n",
    "\n",
    "PCA and feature extraction are related in that PCA can be used as a feature extraction technique. \n",
    "Feature extraction is the process of identifying important features or patterns in a dataset and representing them as a smaller set of variables or features. \n",
    "This can help to reduce the dimensionality of the dataset, making it easier to analyze and process.\n",
    "\n",
    "For example, consider a dataset of images where each image contains a large number of pixels. \n",
    "We can use PCA to extract the most important features from the images, such as edges, shapes, and textures, and represent each image using a smaller set of principal components. \n",
    "These principal components can then be used as new features for image classification or clustering tasks."
   ]
  },
  {
   "cell_type": "markdown",
   "id": "232ced43-b1bf-4720-a0dd-81e08b263aef",
   "metadata": {},
   "source": [
    "Q5. You are working on a project to build a recommendation system for a food delivery service. The dataset contains features such as price, rating, and delivery time. Explain how you would use Min-Max scaling to preprocess the data.\n",
    "\n",
    "ANS : \n",
    "\n",
    "Min-Max scaling is a commonly used normalization technique in data preprocessing, which scales the values of a numerical variable to a fixed range, typically between 0 and 1. \n",
    "To apply Min-Max scaling to a variable, we first find the minimum and maximum values of that variable in the dataset. \n",
    "\n",
    "Then, we transform the values of the variable using the following formula:\n",
    "scaled_value = (value - min_value) / (max_value - min_value)"
   ]
  },
  {
   "cell_type": "markdown",
   "id": "5985533f-e2af-4b41-aec6-b520a9c7497b",
   "metadata": {},
   "source": [
    "Q6. You are working on a project to build a model to predict stock prices. The dataset contains many features, such as company financial data and market trends. Explain how you would use PCA to reduce the dimensionality of the dataset.\n",
    "\n",
    "ANS : \n",
    "\n",
    "When working on a project to predict stock prices, it is common to have a dataset with many features, including company financial data, market trends, and other relevant information. \n",
    "\n",
    "However, having too many features can lead to overfitting and can make it difficult to train a model that generalizes well to new data. \n",
    "To address this issue, we can use PCA to reduce the dimensionality of the dataset."
   ]
  },
  {
   "cell_type": "markdown",
   "id": "58d9050e-4f19-459a-b210-072ca7253285",
   "metadata": {},
   "source": [
    "Q7. For a dataset containing the following values: [1, 5, 10, 15, 20], perform Min-Max scaling to transform the values to a range of -1 to 1.\n",
    "\n",
    "ANS :\n",
    "\n",
    "To perform Min-Max scaling on the dataset [1, 5, 10, 15, 20] and transform the values to a range of -1 to 1, we need to use the following formula:\n",
    "\n",
    "scaled_value = 2 * (value - min_value) / (max_value - min_value) - 1\n",
    "\n",
    "In this case, the minimum value is 1 and the maximum value is 20. So we can apply the formula to each value in the dataset as follows:\n",
    "For the value 1: scaled_value = 2 * (1 - 1) / (20 - 1) - 1 = -1\n",
    "For the value 5: scaled_value = 2 * (5 - 1) / (20 - 1) - 1 = -0.6\n",
    "For the value 10: scaled_value = 2 * (10 - 1) / (20 - 1) - 1 = -0.2\n",
    "For the value 15: scaled_value = 2 * (15 - 1) / (20 - 1) - 1 = 0.2\n",
    "For the value 20: scaled_value = 2 * (20 - 1) / (20 - 1) - 1 = 1\n",
    "\n",
    "Therefore, the Min-Max scaled dataset with values transformed to the range of -1 to 1 is [-1, -0.6, -0.2, 0.2, 1]."
   ]
  },
  {
   "cell_type": "markdown",
   "id": "d83a389b-b0f1-4ec8-9c2f-a15f5f86999a",
   "metadata": {},
   "source": [
    "Q8. For a dataset containing the following features: [height, weight, age, gender, blood pressure], perform Feature Extraction using PCA. How many principal components would you choose to retain, and why?\n",
    "\n",
    "ANS :\n",
    "\n",
    "Performing feature extraction using PCA involves reducing the number of features in a dataset by identifying a smaller number of principal components that capture most of the variance in the original features."
   ]
  },
  {
   "cell_type": "code",
   "execution_count": 1,
   "id": "17d287c4-07de-48ca-b662-2930b20cc6c4",
   "metadata": {},
   "outputs": [],
   "source": [
    "import pandas as pd\n",
    "df = pd.read_csv('Data.csv')"
   ]
  },
  {
   "cell_type": "code",
   "execution_count": 2,
   "id": "6c903274-2842-4600-8d93-aed71e358883",
   "metadata": {},
   "outputs": [
    {
     "data": {
      "image/png": "[encoded data removed]",
      "text/plain": [
       "<Figure size 640x480 with 1 Axes>"
      ]
     },
     "metadata": {},
     "output_type": "display_data"
    }
   ],
   "source": [
    "from sklearn.decomposition import PCA\n",
    "\n",
    "# create PCA object and fit to data\n",
    "pca = PCA()\n",
    "pca.fit(df[['Height','Weight','Age']])\n",
    "\n",
    "# plot explained variance ratios\n",
    "import matplotlib.pyplot as plt\n",
    "plt.plot(range(1, len(pca.explained_variance_ratio_)+1), pca.explained_variance_ratio_)\n",
    "plt.xlabel('Principal Component')\n",
    "plt.ylabel('Explained Variance Ratio')\n",
    "plt.show()"
   ]
  },
  {
   "cell_type": "code",
   "execution_count": null,
   "id": "31c4713c-5c61-4100-baf2-be1fcb9f1e3e",
   "metadata": {},
   "outputs": [],
   "source": []
  }
 ],
 "metadata": {
  "kernelspec": {
   "display_name": "Python 3 (ipykernel)",
   "language": "python",
   "name": "python3"
  },
  "language_info": {
   "codemirror_mode": {
    "name": "ipython",
    "version": 3
   },
   "file_extension": ".py",
   "mimetype": "text/x-python",
   "name": "python",
   "nbconvert_exporter": "python",
   "pygments_lexer": "ipython3",
   "version": "3.10.8"
  }
 },
 "nbformat": 4,
 "nbformat_minor": 5
}
